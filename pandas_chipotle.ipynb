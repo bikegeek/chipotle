{
 "cells": [
  {
   "cell_type": "code",
   "execution_count": 2,
   "metadata": {
    "collapsed": false
   },
   "outputs": [
    {
     "name": "stdout",
     "output_type": "stream",
     "text": [
      "   order_id  quantity                              item_name  \\\n",
      "0         1         1           Chips and Fresh Tomato Salsa   \n",
      "1         1         1                                   Izze   \n",
      "2         1         1                       Nantucket Nectar   \n",
      "3         1         1  Chips and Tomatillo-Green Chili Salsa   \n",
      "4         2         2                           Chicken Bowl   \n",
      "\n",
      "                                  choice_description item_price  \n",
      "0                                                NaN     $2.39   \n",
      "1                                       [Clementine]     $3.39   \n",
      "2                                            [Apple]     $3.39   \n",
      "3                                                NaN     $2.39   \n",
      "4  [Tomatillo-Red Chili Salsa (Hot), [Black Beans...    $16.98   \n"
     ]
    }
   ],
   "source": [
    "import numpy as np\n",
    "import pandas as pd\n",
    "from pandas import DataFrame, Series\n",
    "import re\n",
    "data = pd.read_csv('/Users/minnawin/PythonWorkInProgress/orders.tsv', sep=\"\\t\")\n",
    "df = DataFrame(data)\n",
    "print(df.head())"
   ]
  },
  {
   "cell_type": "code",
   "execution_count": 3,
   "metadata": {
    "collapsed": false
   },
   "outputs": [
    {
     "name": "stdout",
     "output_type": "stream",
     "text": [
      "0                Chips and Fresh Tomato Salsa\n",
      "1                                        Izze\n",
      "2                            Nantucket Nectar\n",
      "3       Chips and Tomatillo-Green Chili Salsa\n",
      "4                                Chicken Bowl\n",
      "5                                Chicken Bowl\n",
      "6                               Side of Chips\n",
      "7                               Steak Burrito\n",
      "8                            Steak Soft Tacos\n",
      "9                               Steak Burrito\n",
      "10                        Chips and Guacamole\n",
      "11                       Chicken Crispy Tacos\n",
      "12                         Chicken Soft Tacos\n",
      "13                               Chicken Bowl\n",
      "14                        Chips and Guacamole\n",
      "15      Chips and Tomatillo-Green Chili Salsa\n",
      "16                            Chicken Burrito\n",
      "17                            Chicken Burrito\n",
      "18                                Canned Soda\n",
      "19                               Chicken Bowl\n",
      "20                        Chips and Guacamole\n",
      "21                           Barbacoa Burrito\n",
      "22                           Nantucket Nectar\n",
      "23                            Chicken Burrito\n",
      "24                                       Izze\n",
      "25               Chips and Fresh Tomato Salsa\n",
      "26                               Chicken Bowl\n",
      "27                           Carnitas Burrito\n",
      "28                                Canned Soda\n",
      "29                            Chicken Burrito\n",
      "                        ...                  \n",
      "4592                         Barbacoa Burrito\n",
      "4593                            Carnitas Bowl\n",
      "4594                            Barbacoa Bowl\n",
      "4595                             Chicken Bowl\n",
      "4596                      Chips and Guacamole\n",
      "4597                        Canned Soft Drink\n",
      "4598                            Bottled Water\n",
      "4599                             Chicken Bowl\n",
      "4600                      Chips and Guacamole\n",
      "4601                        Canned Soft Drink\n",
      "4602                         Barbacoa Burrito\n",
      "4603                         Barbacoa Burrito\n",
      "4604                             Chicken Bowl\n",
      "4605                      Chips and Guacamole\n",
      "4606                        Canned Soft Drink\n",
      "4607                            Steak Burrito\n",
      "4608                           Veggie Burrito\n",
      "4609                        Canned Soft Drink\n",
      "4610                            Steak Burrito\n",
      "4611                           Veggie Burrito\n",
      "4612                            Carnitas Bowl\n",
      "4613                                    Chips\n",
      "4614                            Bottled Water\n",
      "4615                       Chicken Soft Tacos\n",
      "4616                      Chips and Guacamole\n",
      "4617                            Steak Burrito\n",
      "4618                            Steak Burrito\n",
      "4619                       Chicken Salad Bowl\n",
      "4620                       Chicken Salad Bowl\n",
      "4621                       Chicken Salad Bowl\n",
      "Name: item_name, dtype: object\n"
     ]
    }
   ],
   "source": [
    "#Take a quick \"human-in-the-loop\" look at the data for anything interesting...\n",
    "items = df.item_name\n",
    "print(items)"
   ]
  },
  {
   "cell_type": "code",
   "execution_count": 4,
   "metadata": {
    "collapsed": false
   },
   "outputs": [
    {
     "name": "stdout",
     "output_type": "stream",
     "text": [
      "0        $2.39 \n",
      "1        $3.39 \n",
      "2        $3.39 \n",
      "3        $2.39 \n",
      "4       $16.98 \n",
      "5       $10.98 \n",
      "6        $1.69 \n",
      "7       $11.75 \n",
      "8        $9.25 \n",
      "9        $9.25 \n",
      "10       $4.45 \n",
      "11       $8.75 \n",
      "12       $8.75 \n",
      "13      $11.25 \n",
      "14       $4.45 \n",
      "15       $2.39 \n",
      "16       $8.49 \n",
      "17       $8.49 \n",
      "18       $2.18 \n",
      "19       $8.75 \n",
      "20       $4.45 \n",
      "21       $8.99 \n",
      "22       $3.39 \n",
      "23      $10.98 \n",
      "24       $3.39 \n",
      "25       $2.39 \n",
      "26       $8.49 \n",
      "27       $8.99 \n",
      "28       $1.09 \n",
      "29       $8.49 \n",
      "         ...   \n",
      "4592    $11.75 \n",
      "4593    $11.75 \n",
      "4594    $11.75 \n",
      "4595     $8.75 \n",
      "4596     $4.45 \n",
      "4597     $1.25 \n",
      "4598     $1.50 \n",
      "4599     $8.75 \n",
      "4600     $4.45 \n",
      "4601     $1.25 \n",
      "4602     $9.25 \n",
      "4603     $9.25 \n",
      "4604     $8.75 \n",
      "4605     $4.45 \n",
      "4606     $1.25 \n",
      "4607    $11.75 \n",
      "4608    $11.25 \n",
      "4609     $1.25 \n",
      "4610    $11.75 \n",
      "4611    $11.25 \n",
      "4612     $9.25 \n",
      "4613     $2.15 \n",
      "4614     $1.50 \n",
      "4615     $8.75 \n",
      "4616     $4.45 \n",
      "4617    $11.75 \n",
      "4618    $11.75 \n",
      "4619    $11.25 \n",
      "4620     $8.75 \n",
      "4621     $8.75 \n",
      "Name: item_price, dtype: object\n"
     ]
    }
   ],
   "source": [
    "print(df.item_price)"
   ]
  },
  {
   "cell_type": "code",
   "execution_count": 5,
   "metadata": {
    "collapsed": false
   },
   "outputs": [
    {
     "name": "stdout",
     "output_type": "stream",
     "text": [
      "Most ordered item:                    Number:\n",
      "\n",
      "=======================================================\n",
      "Chicken Bowl                             726\n",
      "Chicken Burrito                          553\n",
      "Chips and Guacamole                      479\n",
      "Steak Burrito                            368\n",
      "Canned Soft Drink                        301\n",
      "Chips                                    211\n",
      "Steak Bowl                               211\n",
      "Bottled Water                            162\n",
      "Chicken Soft Tacos                       115\n",
      "Chips and Fresh Tomato Salsa             110\n",
      "Chicken Salad Bowl                       110\n",
      "Canned Soda                              104\n",
      "Side of Chips                            101\n",
      "Veggie Burrito                            95\n",
      "Barbacoa Burrito                          91\n",
      "Veggie Bowl                               85\n",
      "Carnitas Bowl                             68\n",
      "Barbacoa Bowl                             66\n",
      "Carnitas Burrito                          59\n",
      "Steak Soft Tacos                          55\n",
      "6 Pack Soft Drink                         54\n",
      "Chips and Tomatillo Red Chili Salsa       48\n",
      "Chicken Crispy Tacos                      47\n",
      "Chips and Tomatillo Green Chili Salsa     43\n",
      "Carnitas Soft Tacos                       40\n",
      "Steak Crispy Tacos                        35\n",
      "Chips and Tomatillo-Green Chili Salsa     31\n",
      "Steak Salad Bowl                          29\n",
      "Nantucket Nectar                          27\n",
      "Barbacoa Soft Tacos                       25\n",
      "Chips and Roasted Chili Corn Salsa        22\n",
      "Chips and Tomatillo-Red Chili Salsa       20\n",
      "Izze                                      20\n",
      "Chips and Roasted Chili-Corn Salsa        18\n",
      "Veggie Salad Bowl                         18\n",
      "Barbacoa Crispy Tacos                     11\n",
      "Barbacoa Salad Bowl                       10\n",
      "Chicken Salad                              9\n",
      "Veggie Soft Tacos                          7\n",
      "Carnitas Crispy Tacos                      7\n",
      "Burrito                                    6\n",
      "Carnitas Salad Bowl                        6\n",
      "Veggie Salad                               6\n",
      "Steak Salad                                4\n",
      "Salad                                      2\n",
      "Crispy Tacos                               2\n",
      "Bowl                                       2\n",
      "Veggie Crispy Tacos                        1\n",
      "Carnitas Salad                             1\n",
      "Chips and Mild Fresh Tomato Salsa          1\n",
      "Name: item_name, dtype: int64  \n"
     ]
    }
   ],
   "source": [
    "#What is the most ordered item?\n",
    "most_ordered = df.item_name.value_counts()\n",
    "print(\"Most ordered item:                    Number:\\n\")\n",
    "print(\"=======================================================\\n%s  \")%(most_ordered)"
   ]
  },
  {
   "cell_type": "code",
   "execution_count": 6,
   "metadata": {
    "collapsed": false
   },
   "outputs": [
    {
     "name": "stdout",
     "output_type": "stream",
     "text": [
      "Chicken Bowl                             726\n",
      "Chicken Burrito                          553\n",
      "Chips and Guacamole                      479\n",
      "Steak Burrito                            368\n",
      "Canned Soft Drink                        301\n",
      "Chips                                    211\n",
      "Steak Bowl                               211\n",
      "Bottled Water                            162\n",
      "Chicken Soft Tacos                       115\n",
      "Chips and Fresh Tomato Salsa             110\n",
      "Chicken Salad Bowl                       110\n",
      "Canned Soda                              104\n",
      "Side of Chips                            101\n",
      "Veggie Burrito                            95\n",
      "Barbacoa Burrito                          91\n",
      "Veggie Bowl                               85\n",
      "Carnitas Bowl                             68\n",
      "Barbacoa Bowl                             66\n",
      "Carnitas Burrito                          59\n",
      "Steak Soft Tacos                          55\n",
      "6 Pack Soft Drink                         54\n",
      "Chips and Tomatillo Red Chili Salsa       48\n",
      "Chicken Crispy Tacos                      47\n",
      "Chips and Tomatillo Green Chili Salsa     43\n",
      "Carnitas Soft Tacos                       40\n",
      "Steak Crispy Tacos                        35\n",
      "Chips and Tomatillo-Green Chili Salsa     31\n",
      "Steak Salad Bowl                          29\n",
      "Nantucket Nectar                          27\n",
      "Barbacoa Soft Tacos                       25\n",
      "Chips and Roasted Chili Corn Salsa        22\n",
      "Chips and Tomatillo-Red Chili Salsa       20\n",
      "Izze                                      20\n",
      "Chips and Roasted Chili-Corn Salsa        18\n",
      "Veggie Salad Bowl                         18\n",
      "Barbacoa Crispy Tacos                     11\n",
      "Barbacoa Salad Bowl                       10\n",
      "Chicken Salad                              9\n",
      "Veggie Soft Tacos                          7\n",
      "Carnitas Crispy Tacos                      7\n",
      "Burrito                                    6\n",
      "Carnitas Salad Bowl                        6\n",
      "Veggie Salad                               6\n",
      "Steak Salad                                4\n",
      "Salad                                      2\n",
      "Crispy Tacos                               2\n",
      "Bowl                                       2\n",
      "Veggie Crispy Tacos                        1\n",
      "Carnitas Salad                             1\n",
      "Chips and Mild Fresh Tomato Salsa          1\n",
      "Name: item_name, dtype: int64\n"
     ]
    }
   ],
   "source": [
    "#What are the top 10 most ordered items?\n",
    "ten_most_ordered = df.item_name.value_counts()[:9]\n",
    "print(most_ordered)"
   ]
  },
  {
   "cell_type": "code",
   "execution_count": 7,
   "metadata": {
    "collapsed": false
   },
   "outputs": [
    {
     "data": {
      "text/plain": [
       "<matplotlib.axes._subplots.AxesSubplot at 0x106dd3e50>"
      ]
     },
     "execution_count": 7,
     "metadata": {},
     "output_type": "execute_result"
    },
    {
     "data": {
      "image/png": "[encoded data removed]",
      "text/plain": [
       "<matplotlib.figure.Figure at 0x106dd3610>"
      ]
     },
     "metadata": {},
     "output_type": "display_data"
    }
   ],
   "source": [
    "# In order for plot to appear within jupyter, use %matplotlib inline \n",
    "%matplotlib inline\n",
    "df.item_name.value_counts()[:10].plot(kind='bar')"
   ]
  },
  {
   "cell_type": "code",
   "execution_count": 8,
   "metadata": {
    "collapsed": false
   },
   "outputs": [
    {
     "name": "stdout",
     "output_type": "stream",
     "text": [
      "0        2.39\n",
      "1        3.39\n",
      "2        3.39\n",
      "3        2.39\n",
      "4       16.98\n",
      "5       10.98\n",
      "6        1.69\n",
      "7       11.75\n",
      "8        9.25\n",
      "9        9.25\n",
      "10       4.45\n",
      "11       8.75\n",
      "12       8.75\n",
      "13      11.25\n",
      "14       4.45\n",
      "15       2.39\n",
      "16       8.49\n",
      "17       8.49\n",
      "18       2.18\n",
      "19       8.75\n",
      "20       4.45\n",
      "21       8.99\n",
      "22       3.39\n",
      "23      10.98\n",
      "24       3.39\n",
      "25       2.39\n",
      "26       8.49\n",
      "27       8.99\n",
      "28       1.09\n",
      "29       8.49\n",
      "        ...  \n",
      "4592    11.75\n",
      "4593    11.75\n",
      "4594    11.75\n",
      "4595     8.75\n",
      "4596     4.45\n",
      "4597     1.25\n",
      "4598     1.50\n",
      "4599     8.75\n",
      "4600     4.45\n",
      "4601     1.25\n",
      "4602     9.25\n",
      "4603     9.25\n",
      "4604     8.75\n",
      "4605     4.45\n",
      "4606     1.25\n",
      "4607    11.75\n",
      "4608    11.25\n",
      "4609     1.25\n",
      "4610    11.75\n",
      "4611    11.25\n",
      "4612     9.25\n",
      "4613     2.15\n",
      "4614     1.50\n",
      "4615     8.75\n",
      "4616     4.45\n",
      "4617    11.75\n",
      "4618    11.75\n",
      "4619    11.25\n",
      "4620     8.75\n",
      "4621     8.75\n",
      "Name: item_price, dtype: float64\n"
     ]
    }
   ],
   "source": [
    "#Convert the item_price into float, after you remove the '$'\n",
    "df['item_price'] = df['item_price'].str.replace('$','')\n",
    "df['item_price'] = df['item_price'].astype(float)\n",
    "\n",
    "print(df['item_price'])"
   ]
  },
  {
   "cell_type": "code",
   "execution_count": 9,
   "metadata": {
    "collapsed": false
   },
   "outputs": [
    {
     "name": "stdout",
     "output_type": "stream",
     "text": [
      "          quantity  item_price\n",
      "order_id                      \n",
      "1                4       11.56\n",
      "2                2       16.98\n",
      "3                2       12.67\n",
      "4                2       21.00\n",
      "5                2       13.70\n"
     ]
    },
    {
     "data": {
      "text/plain": [
       "count    1834.000000\n",
       "mean       18.811429\n",
       "std        11.652512\n",
       "min        10.080000\n",
       "25%        12.572500\n",
       "50%        16.200000\n",
       "75%        21.960000\n",
       "max       205.250000\n",
       "Name: item_price, dtype: float64"
      ]
     },
     "execution_count": 9,
     "metadata": {},
     "output_type": "execute_result"
    }
   ],
   "source": [
    "orders = df.groupby('order_id').sum()\n",
    "print(orders.head())\n",
    "orders['item_price'].describe()\n"
   ]
  },
  {
   "cell_type": "code",
   "execution_count": 10,
   "metadata": {
    "collapsed": false
   },
   "outputs": [
    {
     "name": "stdout",
     "output_type": "stream",
     "text": [
      "Average number of items per order: 2.71\n"
     ]
    }
   ],
   "source": [
    "#Average number of items per order\n",
    "#First, get the total number of items per order id\n",
    "total_num_items = df.groupby('order_id')['quantity'].sum()\n",
    "#print(total_num_items)\n",
    "#Then calculate the average/mean\n",
    "avg_num_items_per_order = total_num_items.mean()\n",
    "print(\"Average number of items per order: %.2f\")%(avg_num_items_per_order)"
   ]
  },
  {
   "cell_type": "code",
   "execution_count": 11,
   "metadata": {
    "collapsed": false
   },
   "outputs": [
    {
     "ename": "TypeError",
     "evalue": "expected string or buffer",
     "output_type": "error",
     "traceback": [
      "\u001b[0;31m---------------------------------------------------------------------------\u001b[0m",
      "\u001b[0;31mTypeError\u001b[0m                                 Traceback (most recent call last)",
      "\u001b[0;32m<ipython-input-11-141fd4924f26>\u001b[0m in \u001b[0;36m<module>\u001b[0;34m()\u001b[0m\n\u001b[1;32m      1\u001b[0m \u001b[0;31m#How many veggie/vegetarian-leaning items were ordered?\u001b[0m\u001b[0;34m\u001b[0m\u001b[0;34m\u001b[0m\u001b[0m\n\u001b[1;32m      2\u001b[0m \u001b[0;31m#use regexp to look for variations on the word \"veg\" in the item_name\u001b[0m\u001b[0;34m\u001b[0m\u001b[0;34m\u001b[0m\u001b[0m\n\u001b[0;32m----> 3\u001b[0;31m \u001b[0mveg\u001b[0m \u001b[0;34m=\u001b[0m \u001b[0mre\u001b[0m\u001b[0;34m.\u001b[0m\u001b[0mmatch\u001b[0m\u001b[0;34m(\u001b[0m\u001b[0;34m\"Veg\"\u001b[0m\u001b[0;34m,\u001b[0m\u001b[0mdf\u001b[0m\u001b[0;34m[\u001b[0m\u001b[0;34m'item_name'\u001b[0m\u001b[0;34m]\u001b[0m\u001b[0;34m)\u001b[0m\u001b[0;34m\u001b[0m\u001b[0m\n\u001b[0m\u001b[1;32m      4\u001b[0m \u001b[0mre\u001b[0m\u001b[0;34m.\u001b[0m\u001b[0mmatch\u001b[0m\u001b[0;34m(\u001b[0m\u001b[0;34m)\u001b[0m\u001b[0;34m\u001b[0m\u001b[0m\n\u001b[1;32m      5\u001b[0m \u001b[0;32mprint\u001b[0m\u001b[0;34m(\u001b[0m\u001b[0mveg\u001b[0m\u001b[0;34m)\u001b[0m\u001b[0;34m\u001b[0m\u001b[0m\n",
      "\u001b[0;32m//anaconda/lib/python2.7/re.pyc\u001b[0m in \u001b[0;36mmatch\u001b[0;34m(pattern, string, flags)\u001b[0m\n\u001b[1;32m    139\u001b[0m     \"\"\"Try to apply the pattern at the start of the string, returning\n\u001b[1;32m    140\u001b[0m     a match object, or None if no match was found.\"\"\"\n\u001b[0;32m--> 141\u001b[0;31m     \u001b[0;32mreturn\u001b[0m \u001b[0m_compile\u001b[0m\u001b[0;34m(\u001b[0m\u001b[0mpattern\u001b[0m\u001b[0;34m,\u001b[0m \u001b[0mflags\u001b[0m\u001b[0;34m)\u001b[0m\u001b[0;34m.\u001b[0m\u001b[0mmatch\u001b[0m\u001b[0;34m(\u001b[0m\u001b[0mstring\u001b[0m\u001b[0;34m)\u001b[0m\u001b[0;34m\u001b[0m\u001b[0m\n\u001b[0m\u001b[1;32m    142\u001b[0m \u001b[0;34m\u001b[0m\u001b[0m\n\u001b[1;32m    143\u001b[0m \u001b[0;32mdef\u001b[0m \u001b[0msearch\u001b[0m\u001b[0;34m(\u001b[0m\u001b[0mpattern\u001b[0m\u001b[0;34m,\u001b[0m \u001b[0mstring\u001b[0m\u001b[0;34m,\u001b[0m \u001b[0mflags\u001b[0m\u001b[0;34m=\u001b[0m\u001b[0;36m0\u001b[0m\u001b[0;34m)\u001b[0m\u001b[0;34m:\u001b[0m\u001b[0;34m\u001b[0m\u001b[0m\n",
      "\u001b[0;31mTypeError\u001b[0m: expected string or buffer"
     ]
    }
   ],
   "source": [
    "#How many veggie/vegetarian-leaning items were ordered?\n",
    "#use regexp to look for variations on the word \"veg\" in the item_name\n",
    "veg = re.match(\"Veg\",df['item_name'])\n",
    "re.match()\n",
    "print(veg)"
   ]
  },
  {
   "cell_type": "code",
   "execution_count": null,
   "metadata": {
    "collapsed": false
   },
   "outputs": [],
   "source": []
  }
 ],
 "metadata": {
  "kernelspec": {
   "display_name": "Python 2",
   "language": "python",
   "name": "python2"
  },
  "language_info": {
   "codemirror_mode": {
    "name": "ipython",
    "version": 2
   },
   "file_extension": ".py",
   "mimetype": "text/x-python",
   "name": "python",
   "nbconvert_exporter": "python",
   "pygments_lexer": "ipython2",
   "version": "2.7.11"
  }
 },
 "nbformat": 4,
 "nbformat_minor": 0
}
